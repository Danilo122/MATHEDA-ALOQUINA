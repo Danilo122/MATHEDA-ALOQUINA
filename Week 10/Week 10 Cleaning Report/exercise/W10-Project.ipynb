{
 "cells": [
  {
   "cell_type": "markdown",
   "metadata": {},
   "source": [
    "# WK10 Data Cleaning"
   ]
  },
  {
   "cell_type": "markdown",
   "metadata": {},
   "source": [
    "Name: **Danilo B. Aloquina III**\n"
   ]
  },
  {
   "cell_type": "markdown",
   "metadata": {},
   "source": [
    "Course: **BSCpE 2A**"
   ]
  },
  {
   "cell_type": "markdown",
   "metadata": {},
   "source": [
    "import **pandas, numpy and matplotlib** library**"
   ]
  },
  {
   "cell_type": "code",
   "execution_count": 2,
   "metadata": {},
   "outputs": [],
   "source": [
    "import pandas as pd\n",
    "import numpy as numpy\n",
    "import matplotlib.pyplot as plt"
   ]
  },
  {
   "cell_type": "markdown",
   "metadata": {},
   "source": [
    "# Overview of DataSet"
   ]
  },
  {
   "cell_type": "code",
   "execution_count": 3,
   "metadata": {},
   "outputs": [
    {
     "name": "stdout",
     "output_type": "stream",
     "text": [
      "<class 'pandas.core.frame.DataFrame'>\n",
      "RangeIndex: 1304 entries, 0 to 1303\n",
      "Data columns (total 6 columns):\n",
      " #   Column                  Non-Null Count  Dtype  \n",
      "---  ------                  --------------  -----  \n",
      " 0   Country                 1202 non-null   object \n",
      " 1    Year                   1171 non-null   float64\n",
      " 2    GDP (in billion USD)   1173 non-null   float64\n",
      " 3    Inflation Rate (%)     1145 non-null   float64\n",
      " 4    Unemployment Rate (%)  1165 non-null   float64\n",
      " 5    Economic Growth (%)    1186 non-null   float64\n",
      "dtypes: float64(5), object(1)\n",
      "memory usage: 61.3+ KB\n"
     ]
    }
   ],
   "source": [
    "df = pd.read_csv(r\"..\\raw\\Economic.csv\",\n",
    "                 delimiter=\",\")\n",
    "df.info()"
   ]
  },
  {
   "cell_type": "markdown",
   "metadata": {},
   "source": [
    "Display an **overview** of the dataset"
   ]
  },
  {
   "cell_type": "code",
   "execution_count": 4,
   "metadata": {},
   "outputs": [
    {
     "data": {
      "text/html": [
       "<div>\n",
       "<style scoped>\n",
       "    .dataframe tbody tr th:only-of-type {\n",
       "        vertical-align: middle;\n",
       "    }\n",
       "\n",
       "    .dataframe tbody tr th {\n",
       "        vertical-align: top;\n",
       "    }\n",
       "\n",
       "    .dataframe thead th {\n",
       "        text-align: right;\n",
       "    }\n",
       "</style>\n",
       "<table border=\"1\" class=\"dataframe\">\n",
       "  <thead>\n",
       "    <tr style=\"text-align: right;\">\n",
       "      <th></th>\n",
       "      <th>Country</th>\n",
       "      <th>Year</th>\n",
       "      <th>GDP (in billion USD)</th>\n",
       "      <th>Inflation Rate (%)</th>\n",
       "      <th>Unemployment Rate (%)</th>\n",
       "      <th>Economic Growth (%)</th>\n",
       "    </tr>\n",
       "  </thead>\n",
       "  <tbody>\n",
       "    <tr>\n",
       "      <th>0</th>\n",
       "      <td>USA</td>\n",
       "      <td>2010.0</td>\n",
       "      <td>15000.0</td>\n",
       "      <td>1.64</td>\n",
       "      <td>9.63</td>\n",
       "      <td>2.55</td>\n",
       "    </tr>\n",
       "    <tr>\n",
       "      <th>1</th>\n",
       "      <td>NaN</td>\n",
       "      <td>2011.0</td>\n",
       "      <td>15500.0</td>\n",
       "      <td>3.16</td>\n",
       "      <td>8.94</td>\n",
       "      <td>1.53</td>\n",
       "    </tr>\n",
       "    <tr>\n",
       "      <th>2</th>\n",
       "      <td>USA</td>\n",
       "      <td>2012.0</td>\n",
       "      <td>NaN</td>\n",
       "      <td>2.07</td>\n",
       "      <td>8.10</td>\n",
       "      <td>2.28</td>\n",
       "    </tr>\n",
       "    <tr>\n",
       "      <th>3</th>\n",
       "      <td>USA</td>\n",
       "      <td>2013.0</td>\n",
       "      <td>16500.0</td>\n",
       "      <td>1.50</td>\n",
       "      <td>7.70</td>\n",
       "      <td>1.84</td>\n",
       "    </tr>\n",
       "    <tr>\n",
       "      <th>4</th>\n",
       "      <td>USA</td>\n",
       "      <td>2014.0</td>\n",
       "      <td>17000.0</td>\n",
       "      <td>1.62</td>\n",
       "      <td>NaN</td>\n",
       "      <td>2.53</td>\n",
       "    </tr>\n",
       "  </tbody>\n",
       "</table>\n",
       "</div>"
      ],
      "text/plain": [
       "  Country    Year   GDP (in billion USD)   Inflation Rate (%)  \\\n",
       "0     USA  2010.0                15000.0                 1.64   \n",
       "1     NaN  2011.0                15500.0                 3.16   \n",
       "2     USA  2012.0                    NaN                 2.07   \n",
       "3     USA  2013.0                16500.0                 1.50   \n",
       "4     USA  2014.0                17000.0                 1.62   \n",
       "\n",
       "    Unemployment Rate (%)   Economic Growth (%)  \n",
       "0                    9.63                  2.55  \n",
       "1                    8.94                  1.53  \n",
       "2                    8.10                  2.28  \n",
       "3                    7.70                  1.84  \n",
       "4                     NaN                  2.53  "
      ]
     },
     "execution_count": 4,
     "metadata": {},
     "output_type": "execute_result"
    }
   ],
   "source": [
    "df.head()"
   ]
  },
  {
   "cell_type": "markdown",
   "metadata": {},
   "source": [
    "**Drop** the fourth column"
   ]
  },
  {
   "cell_type": "code",
   "execution_count": 5,
   "metadata": {},
   "outputs": [
    {
     "data": {
      "text/html": [
       "<div>\n",
       "<style scoped>\n",
       "    .dataframe tbody tr th:only-of-type {\n",
       "        vertical-align: middle;\n",
       "    }\n",
       "\n",
       "    .dataframe tbody tr th {\n",
       "        vertical-align: top;\n",
       "    }\n",
       "\n",
       "    .dataframe thead th {\n",
       "        text-align: right;\n",
       "    }\n",
       "</style>\n",
       "<table border=\"1\" class=\"dataframe\">\n",
       "  <thead>\n",
       "    <tr style=\"text-align: right;\">\n",
       "      <th></th>\n",
       "      <th>Country</th>\n",
       "      <th>Year</th>\n",
       "      <th>GDP (in billion USD)</th>\n",
       "      <th>Unemployment Rate (%)</th>\n",
       "      <th>Economic Growth (%)</th>\n",
       "    </tr>\n",
       "  </thead>\n",
       "  <tbody>\n",
       "    <tr>\n",
       "      <th>0</th>\n",
       "      <td>USA</td>\n",
       "      <td>2010.0</td>\n",
       "      <td>15000.0</td>\n",
       "      <td>9.63</td>\n",
       "      <td>2.55</td>\n",
       "    </tr>\n",
       "    <tr>\n",
       "      <th>1</th>\n",
       "      <td>NaN</td>\n",
       "      <td>2011.0</td>\n",
       "      <td>15500.0</td>\n",
       "      <td>8.94</td>\n",
       "      <td>1.53</td>\n",
       "    </tr>\n",
       "    <tr>\n",
       "      <th>2</th>\n",
       "      <td>USA</td>\n",
       "      <td>2012.0</td>\n",
       "      <td>NaN</td>\n",
       "      <td>8.10</td>\n",
       "      <td>2.28</td>\n",
       "    </tr>\n",
       "    <tr>\n",
       "      <th>3</th>\n",
       "      <td>USA</td>\n",
       "      <td>2013.0</td>\n",
       "      <td>16500.0</td>\n",
       "      <td>7.70</td>\n",
       "      <td>1.84</td>\n",
       "    </tr>\n",
       "    <tr>\n",
       "      <th>4</th>\n",
       "      <td>USA</td>\n",
       "      <td>2014.0</td>\n",
       "      <td>17000.0</td>\n",
       "      <td>NaN</td>\n",
       "      <td>2.53</td>\n",
       "    </tr>\n",
       "  </tbody>\n",
       "</table>\n",
       "</div>"
      ],
      "text/plain": [
       "  Country    Year   GDP (in billion USD)   Unemployment Rate (%)  \\\n",
       "0     USA  2010.0                15000.0                    9.63   \n",
       "1     NaN  2011.0                15500.0                    8.94   \n",
       "2     USA  2012.0                    NaN                    8.10   \n",
       "3     USA  2013.0                16500.0                    7.70   \n",
       "4     USA  2014.0                17000.0                     NaN   \n",
       "\n",
       "    Economic Growth (%)  \n",
       "0                  2.55  \n",
       "1                  1.53  \n",
       "2                  2.28  \n",
       "3                  1.84  \n",
       "4                  2.53  "
      ]
     },
     "execution_count": 5,
     "metadata": {},
     "output_type": "execute_result"
    }
   ],
   "source": [
    "df = df.drop(df.columns[3], axis=1)  \n",
    "df.head()"
   ]
  },
  {
   "cell_type": "markdown",
   "metadata": {},
   "source": [
    "**Rename** columns"
   ]
  },
  {
   "cell_type": "code",
   "execution_count": 6,
   "metadata": {},
   "outputs": [
    {
     "name": "stdout",
     "output_type": "stream",
     "text": [
      "<class 'pandas.core.frame.DataFrame'>\n",
      "RangeIndex: 1304 entries, 0 to 1303\n",
      "Data columns (total 5 columns):\n",
      " #   Column                 Non-Null Count  Dtype  \n",
      "---  ------                 --------------  -----  \n",
      " 0   Country                1202 non-null   object \n",
      " 1   Year                   1171 non-null   float64\n",
      " 2   GDP (in billion USD)   1173 non-null   float64\n",
      " 3   Unemployment Rate (%)  1165 non-null   float64\n",
      " 4   Economic Growth (%)    1186 non-null   float64\n",
      "dtypes: float64(4), object(1)\n",
      "memory usage: 51.1+ KB\n"
     ]
    }
   ],
   "source": [
    "df_w = df.rename(columns={\n",
    "    ' Year':'Year',\n",
    "    ' GDP (in billion USD)':'GDP (in billion USD)',\n",
    "    ' Unemployment Rate (%)':'Unemployment Rate (%)',\n",
    "    ' Economic Growth (%)':'Economic Growth (%)'\n",
    "})\n",
    "df_w.info()\n",
    "df_m = df_w.copy()\n",
    "df_l = df_w.copy()"
   ]
  },
  {
   "cell_type": "markdown",
   "metadata": {},
   "source": [
    "# Determing **Distinct** Values"
   ]
  },
  {
   "cell_type": "code",
   "execution_count": 7,
   "metadata": {},
   "outputs": [
    {
     "data": {
      "text/plain": [
       "array(['USA', nan, 'China', 'Japan', 'Germany', 'India', 'UK', 'Canada',\n",
       "       'Russia', 'Australia', 'France', 'South Korea', 'Saudi Arabia',\n",
       "       'Brazil', 'Italy', 'Bangladesh', 'Indonesia', 'Turkey', 'Malaysia',\n",
       "       'Pakistan'], dtype=object)"
      ]
     },
     "execution_count": 7,
     "metadata": {},
     "output_type": "execute_result"
    }
   ],
   "source": [
    "df_w['Country'].unique()"
   ]
  },
  {
   "cell_type": "code",
   "execution_count": 8,
   "metadata": {},
   "outputs": [
    {
     "data": {
      "text/plain": [
       "19"
      ]
     },
     "execution_count": 8,
     "metadata": {},
     "output_type": "execute_result"
    }
   ],
   "source": [
    "df_w['Country'].nunique()"
   ]
  },
  {
   "cell_type": "code",
   "execution_count": 9,
   "metadata": {},
   "outputs": [
    {
     "data": {
      "text/plain": [
       "0       2010.0\n",
       "1       2011.0\n",
       "2       2012.0\n",
       "3       2013.0\n",
       "4       2014.0\n",
       "         ...  \n",
       "1299    2013.0\n",
       "1300    2017.0\n",
       "1301    2017.0\n",
       "1302    2023.0\n",
       "1303    2017.0\n",
       "Name: Year, Length: 1304, dtype: float64"
      ]
     },
     "execution_count": 9,
     "metadata": {},
     "output_type": "execute_result"
    }
   ],
   "source": [
    "df_w['Year']"
   ]
  },
  {
   "cell_type": "code",
   "execution_count": 10,
   "metadata": {},
   "outputs": [
    {
     "data": {
      "text/plain": [
       "16"
      ]
     },
     "execution_count": 10,
     "metadata": {},
     "output_type": "execute_result"
    }
   ],
   "source": [
    "df_w['Year'].nunique()"
   ]
  },
  {
   "cell_type": "markdown",
   "metadata": {},
   "source": [
    "# Data Cleaning - Droping NaN\n"
   ]
  },
  {
   "cell_type": "code",
   "execution_count": 11,
   "metadata": {},
   "outputs": [
    {
     "data": {
      "text/plain": [
       "Country                  102\n",
       "Year                     133\n",
       "GDP (in billion USD)     131\n",
       "Unemployment Rate (%)    139\n",
       "Economic Growth (%)      118\n",
       "dtype: int64"
      ]
     },
     "execution_count": 11,
     "metadata": {},
     "output_type": "execute_result"
    }
   ],
   "source": [
    "df_w.isna().sum()"
   ]
  },
  {
   "cell_type": "code",
   "execution_count": 12,
   "metadata": {},
   "outputs": [
    {
     "data": {
      "text/plain": [
       "Country                   96\n",
       "Year                       0\n",
       "GDP (in billion USD)     125\n",
       "Unemployment Rate (%)    119\n",
       "Economic Growth (%)      107\n",
       "dtype: int64"
      ]
     },
     "execution_count": 12,
     "metadata": {},
     "output_type": "execute_result"
    }
   ],
   "source": [
    "\n",
    "df_w = df_w.dropna(subset=['Year'])\n",
    "df_w.isna().sum()\n"
   ]
  },
  {
   "cell_type": "code",
   "execution_count": 13,
   "metadata": {},
   "outputs": [
    {
     "data": {
      "text/plain": [
       "Country                   88\n",
       "Year                       0\n",
       "GDP (in billion USD)       0\n",
       "Unemployment Rate (%)    106\n",
       "Economic Growth (%)       95\n",
       "dtype: int64"
      ]
     },
     "execution_count": 13,
     "metadata": {},
     "output_type": "execute_result"
    }
   ],
   "source": [
    "\n",
    "df_w = df_w.dropna(subset = ['GDP (in billion USD)'])\n",
    "df_w.isna().sum()"
   ]
  },
  {
   "cell_type": "code",
   "execution_count": 14,
   "metadata": {},
   "outputs": [
    {
     "data": {
      "text/plain": [
       "Country                   88\n",
       "Year                       0\n",
       "GDP (in billion USD)       0\n",
       "Unemployment Rate (%)    106\n",
       "Economic Growth (%)       95\n",
       "dtype: int64"
      ]
     },
     "execution_count": 14,
     "metadata": {},
     "output_type": "execute_result"
    }
   ],
   "source": [
    "df_w.isna().sum()"
   ]
  },
  {
   "cell_type": "code",
   "execution_count": 15,
   "metadata": {},
   "outputs": [
    {
     "data": {
      "text/plain": [
       "Country                   88\n",
       "Year                       0\n",
       "GDP (in billion USD)       0\n",
       "Unemployment Rate (%)    106\n",
       "Economic Growth (%)       95\n",
       "dtype: int64"
      ]
     },
     "execution_count": 15,
     "metadata": {},
     "output_type": "execute_result"
    }
   ],
   "source": [
    "df_w = df_w.dropna(subset=['Year','GDP (in billion USD)'])\n",
    "df_w.isna().sum()"
   ]
  },
  {
   "cell_type": "markdown",
   "metadata": {},
   "source": [
    "\n",
    "# Data Cleaning - Replacing NaN with Mean"
   ]
  },
  {
   "cell_type": "markdown",
   "metadata": {},
   "source": [
    "Make a copy of **df_w**"
   ]
  },
  {
   "cell_type": "code",
   "execution_count": 16,
   "metadata": {},
   "outputs": [
    {
     "name": "stdout",
     "output_type": "stream",
     "text": [
      "<class 'pandas.core.frame.DataFrame'>\n",
      "RangeIndex: 1304 entries, 0 to 1303\n",
      "Data columns (total 5 columns):\n",
      " #   Column                 Non-Null Count  Dtype  \n",
      "---  ------                 --------------  -----  \n",
      " 0   Country                1202 non-null   object \n",
      " 1   Year                   1171 non-null   float64\n",
      " 2   GDP (in billion USD)   1173 non-null   float64\n",
      " 3   Unemployment Rate (%)  1165 non-null   float64\n",
      " 4   Economic Growth (%)    1186 non-null   float64\n",
      "dtypes: float64(4), object(1)\n",
      "memory usage: 51.1+ KB\n"
     ]
    }
   ],
   "source": [
    "\n",
    "df_m.info()"
   ]
  },
  {
   "cell_type": "code",
   "execution_count": 17,
   "metadata": {},
   "outputs": [
    {
     "name": "stdout",
     "output_type": "stream",
     "text": [
      "3456.9923518164437\n"
     ]
    }
   ],
   "source": [
    "\n",
    "GDP_mean = df_w['GDP (in billion USD)'].mean()\n",
    "print(GDP_mean)\n",
    "df_m['GDP (in billion USD)'] = df_m['GDP (in billion USD)'].fillna(GDP_mean)"
   ]
  },
  {
   "cell_type": "code",
   "execution_count": 18,
   "metadata": {},
   "outputs": [],
   "source": [
    "\n",
    "df_m['Unemployment Rate (%)'] = df_m['Unemployment Rate (%)'].fillna(df_w['Unemployment Rate (%)'].mean())"
   ]
  },
  {
   "cell_type": "code",
   "execution_count": 19,
   "metadata": {},
   "outputs": [],
   "source": [
    "\n",
    "df_m['Economic Growth (%)'] = df_m['Economic Growth (%)'].fillna(df_w['Economic Growth (%)'].mean())"
   ]
  },
  {
   "cell_type": "code",
   "execution_count": 20,
   "metadata": {},
   "outputs": [
    {
     "name": "stdout",
     "output_type": "stream",
     "text": [
      "<class 'pandas.core.frame.DataFrame'>\n",
      "RangeIndex: 1304 entries, 0 to 1303\n",
      "Data columns (total 5 columns):\n",
      " #   Column                 Non-Null Count  Dtype  \n",
      "---  ------                 --------------  -----  \n",
      " 0   Country                1202 non-null   object \n",
      " 1   Year                   1171 non-null   float64\n",
      " 2   GDP (in billion USD)   1304 non-null   float64\n",
      " 3   Unemployment Rate (%)  1304 non-null   float64\n",
      " 4   Economic Growth (%)    1304 non-null   float64\n",
      "dtypes: float64(4), object(1)\n",
      "memory usage: 51.1+ KB\n"
     ]
    }
   ],
   "source": [
    "df_m.info()"
   ]
  },
  {
   "cell_type": "code",
   "execution_count": 21,
   "metadata": {},
   "outputs": [
    {
     "data": {
      "text/html": [
       "<div>\n",
       "<style scoped>\n",
       "    .dataframe tbody tr th:only-of-type {\n",
       "        vertical-align: middle;\n",
       "    }\n",
       "\n",
       "    .dataframe tbody tr th {\n",
       "        vertical-align: top;\n",
       "    }\n",
       "\n",
       "    .dataframe thead th {\n",
       "        text-align: right;\n",
       "    }\n",
       "</style>\n",
       "<table border=\"1\" class=\"dataframe\">\n",
       "  <thead>\n",
       "    <tr style=\"text-align: right;\">\n",
       "      <th></th>\n",
       "      <th>Year</th>\n",
       "      <th>GDP (in billion USD)</th>\n",
       "      <th>Unemployment Rate (%)</th>\n",
       "      <th>Economic Growth (%)</th>\n",
       "    </tr>\n",
       "  </thead>\n",
       "  <tbody>\n",
       "    <tr>\n",
       "      <th>count</th>\n",
       "      <td>1171.000000</td>\n",
       "      <td>1173.000000</td>\n",
       "      <td>1165.000000</td>\n",
       "      <td>1186.000000</td>\n",
       "    </tr>\n",
       "    <tr>\n",
       "      <th>mean</th>\n",
       "      <td>2017.518360</td>\n",
       "      <td>3527.868713</td>\n",
       "      <td>6.218215</td>\n",
       "      <td>2.968651</td>\n",
       "    </tr>\n",
       "    <tr>\n",
       "      <th>std</th>\n",
       "      <td>4.650003</td>\n",
       "      <td>4458.555757</td>\n",
       "      <td>2.620394</td>\n",
       "      <td>3.293567</td>\n",
       "    </tr>\n",
       "    <tr>\n",
       "      <th>min</th>\n",
       "      <td>2010.000000</td>\n",
       "      <td>105.000000</td>\n",
       "      <td>2.100000</td>\n",
       "      <td>-14.000000</td>\n",
       "    </tr>\n",
       "    <tr>\n",
       "      <th>25%</th>\n",
       "      <td>2013.000000</td>\n",
       "      <td>1150.000000</td>\n",
       "      <td>4.300000</td>\n",
       "      <td>1.500000</td>\n",
       "    </tr>\n",
       "    <tr>\n",
       "      <th>50%</th>\n",
       "      <td>2017.000000</td>\n",
       "      <td>2050.000000</td>\n",
       "      <td>5.500000</td>\n",
       "      <td>2.800000</td>\n",
       "    </tr>\n",
       "    <tr>\n",
       "      <th>75%</th>\n",
       "      <td>2022.000000</td>\n",
       "      <td>3700.000000</td>\n",
       "      <td>8.000000</td>\n",
       "      <td>5.000000</td>\n",
       "    </tr>\n",
       "    <tr>\n",
       "      <th>max</th>\n",
       "      <td>2025.000000</td>\n",
       "      <td>22500.000000</td>\n",
       "      <td>13.700000</td>\n",
       "      <td>11.000000</td>\n",
       "    </tr>\n",
       "  </tbody>\n",
       "</table>\n",
       "</div>"
      ],
      "text/plain": [
       "              Year  GDP (in billion USD)  Unemployment Rate (%)  \\\n",
       "count  1171.000000           1173.000000            1165.000000   \n",
       "mean   2017.518360           3527.868713               6.218215   \n",
       "std       4.650003           4458.555757               2.620394   \n",
       "min    2010.000000            105.000000               2.100000   \n",
       "25%    2013.000000           1150.000000               4.300000   \n",
       "50%    2017.000000           2050.000000               5.500000   \n",
       "75%    2022.000000           3700.000000               8.000000   \n",
       "max    2025.000000          22500.000000              13.700000   \n",
       "\n",
       "       Economic Growth (%)  \n",
       "count          1186.000000  \n",
       "mean              2.968651  \n",
       "std               3.293567  \n",
       "min             -14.000000  \n",
       "25%               1.500000  \n",
       "50%               2.800000  \n",
       "75%               5.000000  \n",
       "max              11.000000  "
      ]
     },
     "execution_count": 21,
     "metadata": {},
     "output_type": "execute_result"
    }
   ],
   "source": [
    "df.describe()"
   ]
  },
  {
   "cell_type": "markdown",
   "metadata": {},
   "source": [
    "# Data Cleaning putting **Mode**"
   ]
  },
  {
   "cell_type": "code",
   "execution_count": 22,
   "metadata": {},
   "outputs": [],
   "source": [
    "df[\"Country\"] = df[\"Country\"].fillna(df[\"Country\"].mode()[0])\n",
    "\n"
   ]
  },
  {
   "cell_type": "code",
   "execution_count": 23,
   "metadata": {},
   "outputs": [
    {
     "data": {
      "text/html": [
       "<div>\n",
       "<style scoped>\n",
       "    .dataframe tbody tr th:only-of-type {\n",
       "        vertical-align: middle;\n",
       "    }\n",
       "\n",
       "    .dataframe tbody tr th {\n",
       "        vertical-align: top;\n",
       "    }\n",
       "\n",
       "    .dataframe thead th {\n",
       "        text-align: right;\n",
       "    }\n",
       "</style>\n",
       "<table border=\"1\" class=\"dataframe\">\n",
       "  <thead>\n",
       "    <tr style=\"text-align: right;\">\n",
       "      <th></th>\n",
       "      <th>Year</th>\n",
       "      <th>GDP (in billion USD)</th>\n",
       "      <th>Unemployment Rate (%)</th>\n",
       "      <th>Economic Growth (%)</th>\n",
       "    </tr>\n",
       "  </thead>\n",
       "  <tbody>\n",
       "    <tr>\n",
       "      <th>count</th>\n",
       "      <td>1046.000000</td>\n",
       "      <td>1046.000000</td>\n",
       "      <td>940.000000</td>\n",
       "      <td>951.000000</td>\n",
       "    </tr>\n",
       "    <tr>\n",
       "      <th>mean</th>\n",
       "      <td>2017.567878</td>\n",
       "      <td>3456.992352</td>\n",
       "      <td>6.174723</td>\n",
       "      <td>2.967992</td>\n",
       "    </tr>\n",
       "    <tr>\n",
       "      <th>std</th>\n",
       "      <td>4.666554</td>\n",
       "      <td>4369.691797</td>\n",
       "      <td>2.606731</td>\n",
       "      <td>3.301479</td>\n",
       "    </tr>\n",
       "    <tr>\n",
       "      <th>min</th>\n",
       "      <td>2010.000000</td>\n",
       "      <td>105.000000</td>\n",
       "      <td>2.100000</td>\n",
       "      <td>-14.000000</td>\n",
       "    </tr>\n",
       "    <tr>\n",
       "      <th>25%</th>\n",
       "      <td>2013.000000</td>\n",
       "      <td>1150.000000</td>\n",
       "      <td>4.200000</td>\n",
       "      <td>1.500000</td>\n",
       "    </tr>\n",
       "    <tr>\n",
       "      <th>50%</th>\n",
       "      <td>2017.500000</td>\n",
       "      <td>2000.000000</td>\n",
       "      <td>5.400000</td>\n",
       "      <td>2.800000</td>\n",
       "    </tr>\n",
       "    <tr>\n",
       "      <th>75%</th>\n",
       "      <td>2022.000000</td>\n",
       "      <td>3700.000000</td>\n",
       "      <td>7.850000</td>\n",
       "      <td>5.000000</td>\n",
       "    </tr>\n",
       "    <tr>\n",
       "      <th>max</th>\n",
       "      <td>2025.000000</td>\n",
       "      <td>22500.000000</td>\n",
       "      <td>13.700000</td>\n",
       "      <td>11.000000</td>\n",
       "    </tr>\n",
       "  </tbody>\n",
       "</table>\n",
       "</div>"
      ],
      "text/plain": [
       "              Year  GDP (in billion USD)  Unemployment Rate (%)  \\\n",
       "count  1046.000000           1046.000000             940.000000   \n",
       "mean   2017.567878           3456.992352               6.174723   \n",
       "std       4.666554           4369.691797               2.606731   \n",
       "min    2010.000000            105.000000               2.100000   \n",
       "25%    2013.000000           1150.000000               4.200000   \n",
       "50%    2017.500000           2000.000000               5.400000   \n",
       "75%    2022.000000           3700.000000               7.850000   \n",
       "max    2025.000000          22500.000000              13.700000   \n",
       "\n",
       "       Economic Growth (%)  \n",
       "count           951.000000  \n",
       "mean              2.967992  \n",
       "std               3.301479  \n",
       "min             -14.000000  \n",
       "25%               1.500000  \n",
       "50%               2.800000  \n",
       "75%               5.000000  \n",
       "max              11.000000  "
      ]
     },
     "execution_count": 23,
     "metadata": {},
     "output_type": "execute_result"
    }
   ],
   "source": [
    "df_w.describe()"
   ]
  },
  {
   "cell_type": "markdown",
   "metadata": {},
   "source": [
    "# Data Cleaning putting **Median**"
   ]
  },
  {
   "cell_type": "code",
   "execution_count": 24,
   "metadata": {},
   "outputs": [],
   "source": [
    "df.columns = df.columns.str.strip()\n",
    "\n",
    "columns_to_fill = [\"GDP (in billion USD)\", \"Unemployment Rate (%)\", \"Economic Growth (%)\"]\n",
    "\n",
    "for col in columns_to_fill:\n",
    "    df[col] = df[col].fillna(df[col].median())\n"
   ]
  },
  {
   "cell_type": "code",
   "execution_count": 25,
   "metadata": {},
   "outputs": [
    {
     "name": "stdout",
     "output_type": "stream",
     "text": [
      "<class 'pandas.core.frame.DataFrame'>\n",
      "RangeIndex: 1304 entries, 0 to 1303\n",
      "Data columns (total 5 columns):\n",
      " #   Column                 Non-Null Count  Dtype  \n",
      "---  ------                 --------------  -----  \n",
      " 0   Country                1202 non-null   object \n",
      " 1   Year                   1171 non-null   float64\n",
      " 2   GDP (in billion USD)   1173 non-null   float64\n",
      " 3   Unemployment Rate (%)  1165 non-null   float64\n",
      " 4   Economic Growth (%)    1186 non-null   float64\n",
      "dtypes: float64(4), object(1)\n",
      "memory usage: 51.1+ KB\n"
     ]
    }
   ],
   "source": [
    "df_l.info()"
   ]
  },
  {
   "cell_type": "code",
   "execution_count": 26,
   "metadata": {},
   "outputs": [
    {
     "data": {
      "text/html": [
       "<div>\n",
       "<style scoped>\n",
       "    .dataframe tbody tr th:only-of-type {\n",
       "        vertical-align: middle;\n",
       "    }\n",
       "\n",
       "    .dataframe tbody tr th {\n",
       "        vertical-align: top;\n",
       "    }\n",
       "\n",
       "    .dataframe thead th {\n",
       "        text-align: right;\n",
       "    }\n",
       "</style>\n",
       "<table border=\"1\" class=\"dataframe\">\n",
       "  <thead>\n",
       "    <tr style=\"text-align: right;\">\n",
       "      <th></th>\n",
       "      <th>Year</th>\n",
       "      <th>GDP (in billion USD)</th>\n",
       "      <th>Unemployment Rate (%)</th>\n",
       "      <th>Economic Growth (%)</th>\n",
       "    </tr>\n",
       "  </thead>\n",
       "  <tbody>\n",
       "    <tr>\n",
       "      <th>count</th>\n",
       "      <td>1171.000000</td>\n",
       "      <td>1173.000000</td>\n",
       "      <td>1165.000000</td>\n",
       "      <td>1186.000000</td>\n",
       "    </tr>\n",
       "    <tr>\n",
       "      <th>mean</th>\n",
       "      <td>2017.518360</td>\n",
       "      <td>3527.868713</td>\n",
       "      <td>6.218215</td>\n",
       "      <td>2.968651</td>\n",
       "    </tr>\n",
       "    <tr>\n",
       "      <th>std</th>\n",
       "      <td>4.650003</td>\n",
       "      <td>4458.555757</td>\n",
       "      <td>2.620394</td>\n",
       "      <td>3.293567</td>\n",
       "    </tr>\n",
       "    <tr>\n",
       "      <th>min</th>\n",
       "      <td>2010.000000</td>\n",
       "      <td>105.000000</td>\n",
       "      <td>2.100000</td>\n",
       "      <td>-14.000000</td>\n",
       "    </tr>\n",
       "    <tr>\n",
       "      <th>25%</th>\n",
       "      <td>2013.000000</td>\n",
       "      <td>1150.000000</td>\n",
       "      <td>4.300000</td>\n",
       "      <td>1.500000</td>\n",
       "    </tr>\n",
       "    <tr>\n",
       "      <th>50%</th>\n",
       "      <td>2017.000000</td>\n",
       "      <td>2050.000000</td>\n",
       "      <td>5.500000</td>\n",
       "      <td>2.800000</td>\n",
       "    </tr>\n",
       "    <tr>\n",
       "      <th>75%</th>\n",
       "      <td>2022.000000</td>\n",
       "      <td>3700.000000</td>\n",
       "      <td>8.000000</td>\n",
       "      <td>5.000000</td>\n",
       "    </tr>\n",
       "    <tr>\n",
       "      <th>max</th>\n",
       "      <td>2025.000000</td>\n",
       "      <td>22500.000000</td>\n",
       "      <td>13.700000</td>\n",
       "      <td>11.000000</td>\n",
       "    </tr>\n",
       "  </tbody>\n",
       "</table>\n",
       "</div>"
      ],
      "text/plain": [
       "              Year  GDP (in billion USD)  Unemployment Rate (%)  \\\n",
       "count  1171.000000           1173.000000            1165.000000   \n",
       "mean   2017.518360           3527.868713               6.218215   \n",
       "std       4.650003           4458.555757               2.620394   \n",
       "min    2010.000000            105.000000               2.100000   \n",
       "25%    2013.000000           1150.000000               4.300000   \n",
       "50%    2017.000000           2050.000000               5.500000   \n",
       "75%    2022.000000           3700.000000               8.000000   \n",
       "max    2025.000000          22500.000000              13.700000   \n",
       "\n",
       "       Economic Growth (%)  \n",
       "count          1186.000000  \n",
       "mean              2.968651  \n",
       "std               3.293567  \n",
       "min             -14.000000  \n",
       "25%               1.500000  \n",
       "50%               2.800000  \n",
       "75%               5.000000  \n",
       "max              11.000000  "
      ]
     },
     "execution_count": 26,
     "metadata": {},
     "output_type": "execute_result"
    }
   ],
   "source": [
    "df_l.describe()"
   ]
  },
  {
   "cell_type": "markdown",
   "metadata": {},
   "source": [
    "# Saving the Cleaned Sheet"
   ]
  },
  {
   "cell_type": "code",
   "execution_count": 27,
   "metadata": {},
   "outputs": [],
   "source": [
    "df_l.to_csv(r\"..\\raw\\Economic-Fully-Cleaned.csv\",\n",
    "            index=False)\n",
    "\n"
   ]
  },
  {
   "cell_type": "code",
   "execution_count": null,
   "metadata": {},
   "outputs": [],
   "source": []
  }
 ],
 "metadata": {
  "kernelspec": {
   "display_name": "Python 3",
   "language": "python",
   "name": "python3"
  },
  "language_info": {
   "codemirror_mode": {
    "name": "ipython",
    "version": 3
   },
   "file_extension": ".py",
   "mimetype": "text/x-python",
   "name": "python",
   "nbconvert_exporter": "python",
   "pygments_lexer": "ipython3",
   "version": "3.11.9"
  }
 },
 "nbformat": 4,
 "nbformat_minor": 2
}
